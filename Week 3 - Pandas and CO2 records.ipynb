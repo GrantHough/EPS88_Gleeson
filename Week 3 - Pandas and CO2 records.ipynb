{
 "cells": [
  {
   "cell_type": "markdown",
   "id": "17914815-1668-4574-aab0-685b7b3dabfc",
   "metadata": {},
   "source": [
    "# Week 3 - Pandas and CO2 records\n",
    "\n",
    "In week 1 we calculated the hypothetical sea-level rise that would take place if all the ice on Antarctica melted. Luckily that's a very unlikely scenario (in our lifetime). Understanding climate data is, however, a critical factor for any Earth Scientists. There is lots of relevant data freely available online and we can use this to examine changes in the Earth's atmosphere (i.e., CO2 content) and mean surface temperature over the last 45 years.\n",
    "\n",
    "First we'll get used to some of the basic concepts of Pandas. Next, we'll apply some of this knowledge to datasets of the Mauna Loa CO2 observatory (an important, near-continuous record of atmospheric CO2 levels) and estimates of the 'global surface temperature anomaly' relative to the long-term average between 1951 and 1980. Finally, there is some reading for you to do at the end of this notebook to better understand how other types of geological data contributes to the evidence that climate change is undeniably human-caused."
   ]
  },
  {
   "cell_type": "markdown",
   "id": "6b4a2c6e-9a5b-4682-827a-3dc5a736296b",
   "metadata": {},
   "source": [
    "# Introduction to Pandas\n",
    "\n",
    "**Pandas** is a powerful and widely used library in Python for data manipulation and analysis. It provides easy-to-use, high-level data structures, such as:\n",
    "\n",
    "- **Series**: A one-dimensional labeled array, similar to a list or a column in a spreadsheet.\n",
    "- **DataFrame**: A two-dimensional table with labeled rows and columns, akin to a spreadsheet or SQL table.\n",
    "\n",
    "## Key Features\n",
    "- **Data Handling**: Importing data from various sources (CSV, Excel, SQL, etc.) and exporting it back.\n",
    "- **Data Cleaning**: Handling missing values, filtering, and transforming data efficiently.\n",
    "- **Data Analysis**: Grouping, aggregating, and performing statistical operations.\n",
    "- **Indexing and Slicing**: Flexible selection of rows and columns for deeper analysis.\n",
    "- **Visualization**: Integrates with libraries like Matplotlib and Seaborn for visualizing data.\n",
    "\n",
    "## Why Use Pandas?\n",
    "Pandas simplifies the process of working with structured data, making it an essential tool for data science, machine learning, and automation tasks. It empowers beginners to handle and explore data effectively with minimal code.\n"
   ]
  },
  {
   "cell_type": "code",
   "execution_count": 2,
   "id": "9096041d-bbd2-4396-b21c-57b977fdb483",
   "metadata": {},
   "outputs": [],
   "source": [
    "# In nearly all notebooks from this point onwards we will start with the following three lines of code\n",
    "# This imports the three most commonly used Python packages: NumPy, Pandas, and Matplotlib.\n",
    "import numpy as np\n",
    "import pandas as pd\n",
    "import matplotlib.pyplot as plt"
   ]
  },
  {
   "cell_type": "markdown",
   "id": "9c6561e3-24fd-4604-a610-dc2df1a66494",
   "metadata": {},
   "source": [
    "## Exercise 1 - Get to know your classmates (a little)\n",
    "\n",
    "Let's first just create a simple DataFrame. Make a DataFrame with the columns ['Name', 'Birth Place', 'Pet', 'Pet Name', 'Favorite Food']. Turn to your classmates and find at least 10 people who gave give you this information to complete the DataFrame using the framework below:\n",
    "\n",
    "(5 points)"
   ]
  },
  {
   "cell_type": "code",
   "execution_count": 3,
   "id": "1eea0e13-d98d-4cfc-b9b7-0507e661ff1a",
   "metadata": {},
   "outputs": [
    {
     "data": {
      "text/html": [
       "<div>\n",
       "<style scoped>\n",
       "    .dataframe tbody tr th:only-of-type {\n",
       "        vertical-align: middle;\n",
       "    }\n",
       "\n",
       "    .dataframe tbody tr th {\n",
       "        vertical-align: top;\n",
       "    }\n",
       "\n",
       "    .dataframe thead th {\n",
       "        text-align: right;\n",
       "    }\n",
       "</style>\n",
       "<table border=\"1\" class=\"dataframe\">\n",
       "  <thead>\n",
       "    <tr style=\"text-align: right;\">\n",
       "      <th></th>\n",
       "      <th>Name</th>\n",
       "      <th>Birth Place</th>\n",
       "      <th>Pet</th>\n",
       "      <th>Pet Name</th>\n",
       "      <th>Favorite Food</th>\n",
       "    </tr>\n",
       "  </thead>\n",
       "  <tbody>\n",
       "    <tr>\n",
       "      <th>0</th>\n",
       "      <td>Matthew Gleeson</td>\n",
       "      <td>London</td>\n",
       "      <td>Dog</td>\n",
       "      <td>Lupin</td>\n",
       "      <td>Pizza</td>\n",
       "    </tr>\n",
       "  </tbody>\n",
       "</table>\n",
       "</div>"
      ],
      "text/plain": [
       "              Name Birth Place  Pet Pet Name Favorite Food\n",
       "0  Matthew Gleeson      London  Dog    Lupin         Pizza"
      ]
     },
     "execution_count": 3,
     "metadata": {},
     "output_type": "execute_result"
    }
   ],
   "source": [
    "Class = pd.DataFrame(columns = ['Name', 'Birth Place', 'Pet', 'Pet Name', 'Favorite Food'],\n",
    "                     data = [['Matthew Gleeson', 'London', 'Dog', 'Lupin', 'Pizza']])\n",
    "\n",
    "Class"
   ]
  },
  {
   "cell_type": "markdown",
   "id": "b0b5dff3-2f72-430c-a5d7-83f54a084840",
   "metadata": {},
   "source": [
    "Create a new column with a random integer between 1 and 100 for each person:\n",
    "\n",
    "(2 points)"
   ]
  },
  {
   "cell_type": "code",
   "execution_count": 4,
   "id": "ae914012-add2-4508-ab56-ba534fad0f4d",
   "metadata": {},
   "outputs": [],
   "source": [
    "Class['Number'] = # hint use np.random.randint()\n",
    "Class"
   ]
  },
  {
   "cell_type": "markdown",
   "id": "e319c61d-9f86-4a47-9523-56e62603a3e8",
   "metadata": {},
   "source": [
    "Sort the resulting DataFrame according to the random integers you just generated\n",
    "\n",
    "(2 points)"
   ]
  },
  {
   "cell_type": "code",
   "execution_count": 4,
   "id": "1451f29d-d960-4449-a7cc-c979aa2a2d21",
   "metadata": {},
   "outputs": [
    {
     "data": {
      "text/html": [
       "<div>\n",
       "<style scoped>\n",
       "    .dataframe tbody tr th:only-of-type {\n",
       "        vertical-align: middle;\n",
       "    }\n",
       "\n",
       "    .dataframe tbody tr th {\n",
       "        vertical-align: top;\n",
       "    }\n",
       "\n",
       "    .dataframe thead th {\n",
       "        text-align: right;\n",
       "    }\n",
       "</style>\n",
       "<table border=\"1\" class=\"dataframe\">\n",
       "  <thead>\n",
       "    <tr style=\"text-align: right;\">\n",
       "      <th></th>\n",
       "      <th>Name</th>\n",
       "      <th>Birth Place</th>\n",
       "      <th>Pet</th>\n",
       "      <th>Pet Name</th>\n",
       "      <th>Favorite Food</th>\n",
       "      <th>Number</th>\n",
       "    </tr>\n",
       "  </thead>\n",
       "  <tbody>\n",
       "    <tr>\n",
       "      <th>0</th>\n",
       "      <td>John Smith</td>\n",
       "      <td>San Francisco</td>\n",
       "      <td>None</td>\n",
       "      <td>None</td>\n",
       "      <td>Burgers</td>\n",
       "      <td>69</td>\n",
       "    </tr>\n",
       "    <tr>\n",
       "      <th>1</th>\n",
       "      <td>Matthew Gleeson</td>\n",
       "      <td>London</td>\n",
       "      <td>Dog</td>\n",
       "      <td>Lupin</td>\n",
       "      <td>Pizza</td>\n",
       "      <td>45</td>\n",
       "    </tr>\n",
       "    <tr>\n",
       "      <th>2</th>\n",
       "      <td>Jane Doe</td>\n",
       "      <td>New York</td>\n",
       "      <td>Goldfish</td>\n",
       "      <td>Willow</td>\n",
       "      <td>tacos</td>\n",
       "      <td>17</td>\n",
       "    </tr>\n",
       "  </tbody>\n",
       "</table>\n",
       "</div>"
      ],
      "text/plain": [
       "              Name    Birth Place       Pet Pet Name Favorite Food  Number\n",
       "0       John Smith  San Francisco      None     None       Burgers      69\n",
       "1  Matthew Gleeson         London       Dog    Lupin         Pizza      45\n",
       "2         Jane Doe       New York  Goldfish   Willow         tacos      17"
      ]
     },
     "execution_count": 4,
     "metadata": {},
     "output_type": "execute_result"
    }
   ],
   "source": []
  },
  {
   "cell_type": "markdown",
   "id": "356384fa-d4b6-4c1e-8348-605b75a89e98",
   "metadata": {},
   "source": [
    "Calculate the sum of the random numbers that are generated\n",
    "\n",
    "(1 point)"
   ]
  },
  {
   "cell_type": "code",
   "execution_count": null,
   "id": "c3e13412-4f42-471d-afcb-977476d2eba8",
   "metadata": {},
   "outputs": [],
   "source": []
  },
  {
   "cell_type": "markdown",
   "id": "91c17f2c-a532-4a17-b544-e06acf60aa0a",
   "metadata": {},
   "source": [
    "## Exercise 2 - More Pandas operations\n",
    "\n",
    "Create a DataFrame from the following dictionary of lists:\n",
    "\n",
    "(5 points)"
   ]
  },
  {
   "cell_type": "code",
   "execution_count": 5,
   "id": "6ad9fed9-6297-4629-abf3-90c5c47165bf",
   "metadata": {},
   "outputs": [],
   "source": [
    "data = {'animal': ['cat', 'cat', 'snake', 'dog', 'dog', 'cat', 'snake', 'cat', 'dog', 'dog'],\n",
    "        'age': [2.5, 3, 0.5, np.nan, 5, 2, 4.5, np.nan, 7, 3],\n",
    "        'name': ['Muffy', 'Nyarko', 'Sasha', 'Aura', 'Sunny', 'Zoro', 'Sassy', 'Penny', 'Kody', 'Cooper'],\n",
    "        'visits': [1, 3, 2, 3, 2, 3, 1, 1, 2, 1],\n",
    "        'priority': ['yes', 'yes', 'no', 'yes', 'no', 'no', 'no', 'yes', 'no', 'no']}\n",
    "\n"
   ]
  },
  {
   "cell_type": "markdown",
   "id": "ccaf4904-4153-407e-8729-9a0c744b720a",
   "metadata": {},
   "source": [
    "From the DataFrame let's select all rows where the animal is a cat and the age is less than 3:\n",
    "\n",
    "(2 points)"
   ]
  },
  {
   "cell_type": "code",
   "execution_count": null,
   "id": "7cf1982f-a3e4-4d52-82ab-510547490fb2",
   "metadata": {},
   "outputs": [],
   "source": []
  },
  {
   "cell_type": "markdown",
   "id": "767ec2be-74dc-4b9e-b059-886c06783a08",
   "metadata": {},
   "source": [
    "From the full DataFrame calculate the mean age for each animal type:\n",
    "\n",
    "(3 points)"
   ]
  },
  {
   "cell_type": "code",
   "execution_count": null,
   "id": "8aeb97ce-2264-4ea5-96f3-c63945d1986a",
   "metadata": {},
   "outputs": [],
   "source": []
  },
  {
   "cell_type": "markdown",
   "id": "5ab82a38-555e-40cb-b988-3cc089c83fd2",
   "metadata": {},
   "source": [
    "Sort this DataFrame first by the values in the 'age' column and then by the values in the 'visits' column (in ascending order):\n",
    "\n",
    "(2 points)"
   ]
  },
  {
   "cell_type": "code",
   "execution_count": null,
   "id": "500d1e6a-c442-405e-84e3-92cdb74fe188",
   "metadata": {},
   "outputs": [],
   "source": []
  },
  {
   "cell_type": "markdown",
   "id": "e9262263-6928-4222-8fb8-f7097777bba6",
   "metadata": {},
   "source": [
    "Finally, replace the 'NaN' values in the age column with the median age:\n",
    "\n",
    "(3 points)"
   ]
  },
  {
   "cell_type": "code",
   "execution_count": null,
   "id": "a0780daf-bc9e-484f-a3f9-4ee2b189d67d",
   "metadata": {},
   "outputs": [],
   "source": []
  },
  {
   "cell_type": "markdown",
   "id": "14456d8b-42c6-47a1-bbc0-2e60df3cdf66",
   "metadata": {},
   "source": [
    "## Exercise 3 - CO2 variations from the Mauna Loa observatory\n",
    "\n",
    "Near the summit of Mauna Loa volcano (until late 2022 when it was moved to Mauna Kea following an eruption at Mauna Loa's summit), is an observatory that tracked solar, atmospheric and meteorological parameters in an atmospheric setting that is largely removed from local human contributions. One of the most famous products of the Mauna Loa Observatory is the 'Keeling Curve', tracking variations in the CO2 content of the atmosphere and contributing one of the most important lines of evidence for human-driving climate change. Below, we'll plot the Keeling Curve ourselves, but first let's look back at climate variations that have taken place over the last 20,000 years, since the Last Glacial Maximum."
   ]
  },
  {
   "cell_type": "markdown",
   "id": "48966c04-4775-4c92-8843-9958c68ef476",
   "metadata": {},
   "source": [
    "<img src=\"./figures/earth_temperature_timeline_2x.png\" width = 600>\n",
    "\n",
    "At the last glacial maximum, the extent of ice sheets on North America were as shown in the following map such that nearly all of Canada was covered in an ice sheet (like Greenland is today) with this ice sheet extending down into the lower 48 states of the present-day United States:\n",
    "\n",
    "<img src=\"./figures/Cordilleran-and-Laurentide-Ice-Sheets.png\" width = 600>\n",
    "\n",
    "> Source https://opentextbc.ca/geology/chapter/16-1-glacial-periods-in-earths-history/"
   ]
  },
  {
   "cell_type": "markdown",
   "id": "50c41e3b-73dc-4b2e-a16a-c3088e407c0e",
   "metadata": {},
   "source": [
    "**Load in the CO2 daily mean values from the MLO**\n",
    "The data is contained within the \"co2_dailing_mlo.csv\" file in the 'data' folder."
   ]
  },
  {
   "cell_type": "code",
   "execution_count": 7,
   "id": "76087d02-9108-451d-b17c-0bb7994ebabc",
   "metadata": {},
   "outputs": [
    {
     "data": {
      "text/html": [
       "<div>\n",
       "<style scoped>\n",
       "    .dataframe tbody tr th:only-of-type {\n",
       "        vertical-align: middle;\n",
       "    }\n",
       "\n",
       "    .dataframe tbody tr th {\n",
       "        vertical-align: top;\n",
       "    }\n",
       "\n",
       "    .dataframe thead th {\n",
       "        text-align: right;\n",
       "    }\n",
       "</style>\n",
       "<table border=\"1\" class=\"dataframe\">\n",
       "  <thead>\n",
       "    <tr style=\"text-align: right;\">\n",
       "      <th></th>\n",
       "      <th>Year</th>\n",
       "      <th>Month</th>\n",
       "      <th>Day</th>\n",
       "      <th>Decimal Year</th>\n",
       "      <th>CO2</th>\n",
       "    </tr>\n",
       "  </thead>\n",
       "  <tbody>\n",
       "    <tr>\n",
       "      <th>0</th>\n",
       "      <td>1974</td>\n",
       "      <td>5</td>\n",
       "      <td>19</td>\n",
       "      <td>1974.3781</td>\n",
       "      <td>333.46</td>\n",
       "    </tr>\n",
       "    <tr>\n",
       "      <th>1</th>\n",
       "      <td>1974</td>\n",
       "      <td>5</td>\n",
       "      <td>20</td>\n",
       "      <td>1974.3808</td>\n",
       "      <td>333.64</td>\n",
       "    </tr>\n",
       "    <tr>\n",
       "      <th>2</th>\n",
       "      <td>1974</td>\n",
       "      <td>5</td>\n",
       "      <td>21</td>\n",
       "      <td>1974.3836</td>\n",
       "      <td>333.50</td>\n",
       "    </tr>\n",
       "    <tr>\n",
       "      <th>3</th>\n",
       "      <td>1974</td>\n",
       "      <td>5</td>\n",
       "      <td>22</td>\n",
       "      <td>1974.3863</td>\n",
       "      <td>333.21</td>\n",
       "    </tr>\n",
       "    <tr>\n",
       "      <th>4</th>\n",
       "      <td>1974</td>\n",
       "      <td>5</td>\n",
       "      <td>23</td>\n",
       "      <td>1974.3890</td>\n",
       "      <td>333.05</td>\n",
       "    </tr>\n",
       "  </tbody>\n",
       "</table>\n",
       "</div>"
      ],
      "text/plain": [
       "   Year  Month  Day  Decimal Year     CO2\n",
       "0  1974      5   19     1974.3781  333.46\n",
       "1  1974      5   20     1974.3808  333.64\n",
       "2  1974      5   21     1974.3836  333.50\n",
       "3  1974      5   22     1974.3863  333.21\n",
       "4  1974      5   23     1974.3890  333.05"
      ]
     },
     "execution_count": 7,
     "metadata": {},
     "output_type": "execute_result"
    }
   ],
   "source": [
    "# load the data https://gml.noaa.gov/ccgg/trends/data.html\n",
    "data = pd.read_csv(\"data/co2_daily_mlo.csv\")\n",
    "data.head()"
   ]
  },
  {
   "cell_type": "markdown",
   "id": "6c6b916e-de42-4466-9426-7ada35b014bc",
   "metadata": {},
   "source": [
    "Create a plot of the daily CO2 mean value (x-axis) vs time (Decimal Year). Remember to add axis labels with units!\n",
    "\n",
    "(5 points)"
   ]
  },
  {
   "cell_type": "code",
   "execution_count": 8,
   "id": "9c7a48b1-d291-4321-a81e-072ff4cf1b20",
   "metadata": {},
   "outputs": [],
   "source": [
    "# create a plot of the data showing the temporal change in CO2 levels at Mauna Loa.\n"
   ]
  },
  {
   "cell_type": "markdown",
   "id": "66f108ba-5fde-4a9b-af94-966fba7af177",
   "metadata": {},
   "source": [
    "Hopefully you can see that there is an increase in the atmospheric CO2 content but that this is a long term trend on a yearly flucuation in the atmospheric CO2 content of the Northern Hemisphere. Let's try to 'smooth out' that yearly variation by creating/calculating a moving average. For every timestamp in the dataframe calculate the average value in a year period surrounding that date (i.e., 0.5 years prior to 0.5 years after). \n",
    "\n",
    "(10 points)\n",
    "\n",
    "Once you've calculated the moving average plot your results on the same graph as the daily CO2 values.\n",
    "\n",
    "(5 points)"
   ]
  },
  {
   "cell_type": "code",
   "execution_count": 9,
   "id": "f0a69848-434f-4809-ab87-45a1ef5e0c86",
   "metadata": {},
   "outputs": [],
   "source": [
    "# Create a one-year moving average of the data and add it to the plot.\n",
    "\n",
    "        "
   ]
  },
  {
   "cell_type": "code",
   "execution_count": null,
   "id": "6b6cdd94-143c-441d-952f-37a87551b04a",
   "metadata": {},
   "outputs": [],
   "source": []
  },
  {
   "cell_type": "markdown",
   "id": "24642968-bf7c-494c-929b-a9b333e19e03",
   "metadata": {},
   "source": [
    "Let's have a closer look at those yearly variations. Choose any year in the timeseries. Subtract the moving average value you just calculated from the CO2 daily mean for the same day and plot the CO2 - moving average curve for a single year. \n",
    "\n",
    "(20 points)"
   ]
  },
  {
   "cell_type": "code",
   "execution_count": null,
   "id": "ef11fd0c-38d4-44bf-bcb0-0bccba176a21",
   "metadata": {},
   "outputs": [],
   "source": []
  },
  {
   "cell_type": "markdown",
   "id": "67496a45-6d5f-4472-9d45-c12da68f2360",
   "metadata": {},
   "source": [
    "Compare your results to someone else that chose a different year. Are the results similar? What do you think is driving these yearly variations?\n",
    "\n",
    "(5 points)"
   ]
  },
  {
   "cell_type": "markdown",
   "id": "50594706-23c3-4dfd-8c50-8c98a2720b8b",
   "metadata": {},
   "source": []
  },
  {
   "cell_type": "markdown",
   "id": "d9fee767-c050-4362-ace9-1c2227f31e13",
   "metadata": {},
   "source": [
    "## Exercise 4 - Temperature vs CO2 contents\n",
    "\n",
    "Below we will load in yearly global surface temperature anomalies (relative to the mean surface temperature between 1951 and 1980) and compare this to the CO2 curve. However, to compare this daily data to the yearly temperature data we first need to convert our CO2 data into a form that can be directly compared to the temperature anomalies (i.e., yearly data). One option would be to simply calculate the mean CO2 content each year (something that you've already done within the moving averages). However, to practice your data handling with NumPy and Pandas we're going to do it a little differently! \n",
    "\n",
    "Here I want you to calculate the mean and standard deviation of the atmospheric CO2 contents in the month of July for each year (and plot these on top of the moving average).\n",
    "\n",
    "(10 points)"
   ]
  },
  {
   "cell_type": "code",
   "execution_count": 10,
   "id": "b1573178-d6c4-4908-b396-6effbf4f9162",
   "metadata": {},
   "outputs": [],
   "source": [
    "# calculate the mean and standard deviation of CO2 contents in the month of July for each year.\n"
   ]
  },
  {
   "cell_type": "markdown",
   "id": "b8fbdf69-c9ec-4399-94e7-0843c406e09f",
   "metadata": {},
   "source": [
    "Now let's load in the temperature data (sourced from https://climate.nasa.gov/vital-signs/global-temperature/?intent=121)."
   ]
  },
  {
   "cell_type": "code",
   "execution_count": 11,
   "id": "723396a8-5c1f-47b6-a182-4ac91b6b1c62",
   "metadata": {},
   "outputs": [
    {
     "data": {
      "text/html": [
       "<div>\n",
       "<style scoped>\n",
       "    .dataframe tbody tr th:only-of-type {\n",
       "        vertical-align: middle;\n",
       "    }\n",
       "\n",
       "    .dataframe tbody tr th {\n",
       "        vertical-align: top;\n",
       "    }\n",
       "\n",
       "    .dataframe thead th {\n",
       "        text-align: right;\n",
       "    }\n",
       "</style>\n",
       "<table border=\"1\" class=\"dataframe\">\n",
       "  <thead>\n",
       "    <tr style=\"text-align: right;\">\n",
       "      <th></th>\n",
       "      <th>Year</th>\n",
       "      <th>Yearly Average</th>\n",
       "      <th>Lowess Smoothing</th>\n",
       "    </tr>\n",
       "  </thead>\n",
       "  <tbody>\n",
       "    <tr>\n",
       "      <th>139</th>\n",
       "      <td>2019</td>\n",
       "      <td>0.97</td>\n",
       "      <td>0.93</td>\n",
       "    </tr>\n",
       "    <tr>\n",
       "      <th>140</th>\n",
       "      <td>2020</td>\n",
       "      <td>1.00</td>\n",
       "      <td>0.94</td>\n",
       "    </tr>\n",
       "    <tr>\n",
       "      <th>141</th>\n",
       "      <td>2021</td>\n",
       "      <td>0.84</td>\n",
       "      <td>0.96</td>\n",
       "    </tr>\n",
       "    <tr>\n",
       "      <th>142</th>\n",
       "      <td>2022</td>\n",
       "      <td>0.89</td>\n",
       "      <td>0.98</td>\n",
       "    </tr>\n",
       "    <tr>\n",
       "      <th>143</th>\n",
       "      <td>2023</td>\n",
       "      <td>1.17</td>\n",
       "      <td>1.00</td>\n",
       "    </tr>\n",
       "  </tbody>\n",
       "</table>\n",
       "</div>"
      ],
      "text/plain": [
       "     Year  Yearly Average  Lowess Smoothing\n",
       "139  2019            0.97              0.93\n",
       "140  2020            1.00              0.94\n",
       "141  2021            0.84              0.96\n",
       "142  2022            0.89              0.98\n",
       "143  2023            1.17              1.00"
      ]
     },
     "execution_count": 11,
     "metadata": {},
     "output_type": "execute_result"
    }
   ],
   "source": [
    "## Load global temperature data from https://climate.nasa.gov/vital-signs/global-temperature/?intent=121\n",
    "temp = pd.read_csv('data/T_records.csv')\n",
    "temp.tail()"
   ]
  },
  {
   "cell_type": "markdown",
   "id": "5c5a8e39-8e93-411d-9f0d-6cf1b1a02e88",
   "metadata": {},
   "source": [
    "Create a plot that shows the yearly temperature anomaly on the x axis and the mean July CO2 content on the y-axis. The challenge here is that the two datasets are different sizes! Your challenge is to work out how to solve this issue!\n",
    "\n",
    "(15 points)"
   ]
  },
  {
   "cell_type": "code",
   "execution_count": null,
   "id": "45dcf37d-3c9b-4919-906f-54d338c10816",
   "metadata": {},
   "outputs": [],
   "source": []
  },
  {
   "cell_type": "markdown",
   "id": "8380ac4d-9ac0-485c-92fd-fa51122e216e",
   "metadata": {},
   "source": [
    "### Extra code - this will calculate a simple regression through the data and plot the regression line and confidence interval for the regression. The low p-value indicates that this correlation is almost certainly not random chance!"
   ]
  },
  {
   "cell_type": "code",
   "execution_count": 14,
   "id": "e9dc3d74-6855-421c-ba30-1c7d6a16803c",
   "metadata": {},
   "outputs": [
    {
     "data": {
      "image/png": "[encoded data removed]",
      "text/plain": [
       "<Figure size 1000x600 with 1 Axes>"
      ]
     },
     "metadata": {},
     "output_type": "display_data"
    }
   ],
   "source": [
    "import seaborn as sns\n",
    "from scipy.stats import linregress\n",
    "\n",
    "# Data Preparation (assuming temp_filtered and july_co2_mean are defined)\n",
    "x = temp_filtered['Yearly Average'].values\n",
    "y = july_co2_mean\n",
    "\n",
    "# Linear Regression\n",
    "slope, intercept, r_value, p_value, std_err = linregress(x, y)\n",
    "x_new = np.linspace(np.nanmin(temp_filtered['Yearly Average']), np.nanmax(temp_filtered['Yearly Average']), 101)\n",
    "y_pred = slope * x_new + intercept\n",
    "\n",
    "# Confidence Intervals\n",
    "n = len(x_new)\n",
    "t_val = 1.96  # Approx. for 95% confidence\n",
    "y_err = t_val * std_err * np.sqrt(1/n + ((x_new - np.mean(x_new))**2) / np.sum((x_new - np.mean(x_new))**2))\n",
    "y_lower = y_pred - y_err\n",
    "y_upper = y_pred + y_err\n",
    "\n",
    "# Plotting\n",
    "plt.figure(figsize=(10, 6))\n",
    "\n",
    "# Scatter plot\n",
    "plt.scatter(x, y, color='black', label='Data Points', alpha=0.7)\n",
    "\n",
    "# Regression line\n",
    "plt.plot(x_new, y_pred, color='red', label=f'Regression Line\\n(p-value={p_value:.2e})')\n",
    "\n",
    "# Confidence intervals\n",
    "plt.fill_between(x_new, y_lower, y_upper, color='gray', alpha=0.3, label='95% Confidence Interval')\n",
    "\n",
    "# Labels and Title\n",
    "plt.xlabel('Yearly Temperature Anomaly (°C)', fontsize=12)\n",
    "plt.ylabel('Mean July CO2 (ppm)', fontsize=12)\n",
    "plt.title('Regression of July CO2 on Temperature Anomaly (1980 - Present)', fontsize=14)\n",
    "plt.legend()\n",
    "plt.show()\n"
   ]
  },
  {
   "cell_type": "markdown",
   "id": "2935dc1a-4e87-4667-a321-1ef6c81fff2e",
   "metadata": {},
   "source": [
    "## Exercise 5 - Isotope records of climate variability\n",
    "\n",
    "Read these two articles: https://gml.noaa.gov/education/isotopes/c14tellsus.html; https://gml.noaa.gov/education/isotopes/c13tellsus.html\n",
    "\n",
    "The dominant form of Carbon in our atmosphere is Carbon-12 (made up of 6 protons and 6 neutrons). However, there are two other forms of Carbon: Carbon-13 (7 neutrons), a stable isotope of Carbon that accounts for ~1% of the global Carbon; and Carbon-14, a radioactive isotope formed via interation of cosmic rays with Nitrogen-14 atoms in Earth's atmosphere. C-14 has a 'half-life' of 5730 years, meaning that after this amount of time half of the initial atoms of C-14 in a substance will undergo radioactive decay to N-14 (via beta decay). Watch this YouTube video on radioactive decay for more information: https://www.youtube.com/watch?v=IDkNlU7zKYU.\n",
    "\n",
    "Interestingly, all life is dominantly formed from C-bearing molecules/compounts and prefers to use the C-12 isotope relative to C-13 (i.e., any biological material will have a low C-13/C-12 ratio compared to the atmosphere/oceans. That means that the plant and animal life that formed the coal and oil/gas deposits we have been burning for the last 250 years will have a lower C-13/C-12 ratio than the pre-industrial revolution atmosphere. What will happen when that Carbon is burnt in power stations and released to the atmosphere?\n",
    "\n",
    "Some people still dispute that the rise in global temperatures is caused by burning of fossil fuels. How does the C isotope data help to show us that: (i) the rise in CO2 in the atmosphere is driven by buring fossil fuels (as opposed to natural sources of CO2 e.g., volcanoes); (ii) the rise in global temperatures is this also related to human related fuel emissions. Use the markdown cells below to write a short answer.\n",
    "\n",
    "(10 points)"
   ]
  },
  {
   "cell_type": "code",
   "execution_count": null,
   "id": "e74dbf1c-fbbc-4b16-8f4e-f7fcb8b86235",
   "metadata": {},
   "outputs": [],
   "source": []
  }
 ],
 "metadata": {
  "kernelspec": {
   "display_name": "Python 3 (ipykernel)",
   "language": "python",
   "name": "python3"
  },
  "language_info": {
   "codemirror_mode": {
    "name": "ipython",
    "version": 3
   },
   "file_extension": ".py",
   "mimetype": "text/x-python",
   "name": "python",
   "nbconvert_exporter": "python",
   "pygments_lexer": "ipython3",
   "version": "3.11.0"
  }
 },
 "nbformat": 4,
 "nbformat_minor": 5
}
