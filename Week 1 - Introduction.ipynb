{
 "cells": [
  {
   "cell_type": "markdown",
   "id": "eb1f693b-0b97-4d92-b872-dd5647acecb6",
   "metadata": {},
   "source": [
    "# Week 1 - Python basics and data types!"
   ]
  },
  {
   "cell_type": "markdown",
   "id": "9dc3cbc1-d92a-4216-8add-c5a9161ade75",
   "metadata": {},
   "source": [
    "Welcome to PyEarth and the growing field of Data Science in Earth Science! \n",
    "This notebook represents your starting point to explore how computational tools and big data are transforming our understanding of the Earth and its systems. In this class we'll discuss several topics (listed below) and introduce several of the main data types used in Python programming.\n",
    "\n",
    "The tools of data science enable us to learn about the Earth through the approaches of:\n",
    "- Exploration\n",
    "  - Identifying patterns in data through visualization\n",
    "- Inference\n",
    "  - Using data to obtain reliable insights about the Earth through the application of statistics\n",
    "- Prediction\n",
    "  - Use analysis of data we can observe to make informed predictions of things we cannot observe using machine learning\n",
    "\n",
    "---\n",
    "\n",
    "## Why Python? 🐍\n",
    "Python is one of the most popular programming languages for scientific computing and data analysis. Here's why:\n",
    "- **Ease of Use**: Its simple syntax makes it beginner-friendly, yet powerful enough for advanced applications.\n",
    "- **Versatility**: Python excels in handling diverse tasks—from data cleaning and visualization to machine learning and geospatial analysis.\n",
    "- **Extensive Libraries**: Libraries like `numpy`, `pandas`, `matplotlib`, `scikit-learn`, and `xarray` are specifically designed to handle scientific and geospatial data efficiently.\n",
    "\n",
    "---\n",
    "\n",
    "## Open Access and Collaboration 🌐\n",
    "The Earth Sciences rely on collaborative, open-access research to address global challenges such as climate change, natural disasters, and resource management. Python aligns perfectly with this philosophy because:\n",
    "- It is **free and open-source**, accessible to anyone with a computer.\n",
    "- The Python community actively contributes to open-access tools, ensuring continuous innovation and knowledge sharing.\n",
    "- It integrates seamlessly with open datasets, fostering transparency and reproducibility in research.\n",
    "\n",
    "---\n",
    "\n",
    "## The Era of Big Data 📊\n",
    "Earth Sciences are experiencing a data revolution:\n",
    "- Satellite missions provide **terabytes of data** daily, capturing everything from atmospheric composition to surface deformation.\n",
    "- Climate models, seismic networks, and remote sensing technologies generate massive datasets requiring advanced computational techniques to process and analyze.\n",
    "\n",
    "Every year, Data Science provides new insights in the Earth Sciences, whether that's new methods for detecting critical mineral deposits (https://undark.org/2024/11/13/the-search-for-critical-minerals-is-going-high-tech/), understanding climate change patterns (https://science.nasa.gov/earth/explore/the-ocean-and-climate-change/), forecasting natural disasters (https://www.frontiersin.org/journals/environmental-science/articles/10.3389/fenvs.2023.1194918/full), or analyzing satellite imagery to monitor deforestation and urban growth (https://www.iceye.com/blog/deforestation-and-forest-degradation-monitoring-with-sar-satellite-imagery). The integration of advanced data analysis techniques with large-scale Earth Science datasets is revolutionizing the field, enabling more precise predictions and better-informed decisions.\n",
    "\n",
    "Using Python, you'll learn to harness these datasets, uncover patterns, and draw meaningful insights that contribute to solving critical environmental challenges.\n",
    "\n",
    "---\n",
    "\n",
    "\n"
   ]
  },
  {
   "cell_type": "markdown",
   "id": "e6390e71-9c13-47e1-866a-203ab19a9c68",
   "metadata": {},
   "source": [
    "# Understanding data types in Python 🐍\n",
    "\n",
    "In Python, understanding data types is fundamental to writing effective and efficient code. Data types define the kind of data that a variable can hold, influencing how you can use and manipulate the data. Let’s explore the key data types you’ll encounter.\n",
    "\n",
    "---\n",
    "\n",
    "## Core Data Types\n",
    "\n",
    "### 1. **Numeric Types**\n",
    "- **Integers (`int`)**: Whole numbers, e.g., `42`, `-7`.\n",
    "- **Floats (`float`)**: Decimal numbers, e.g., `3.14`, `-0.001`.\n",
    "- **Complex Numbers (`complex`)**: Numbers with a real and imaginary part, e.g., `3 + 4j`.\n",
    "\n",
    "### 2. **Text Type**\n",
    "- **Strings (`str`)**: Text data, enclosed in single or double quotes, e.g., `'Earth'`, `\"Science\"`.\n",
    "\n",
    "### 3. **Sequence Types**\n",
    "- **Lists (`list`)**: Ordered, mutable collections, e.g., `[1, 2, 3, \"Earth\"]`.\n",
    "- **Tuples (`tuple`)**: Ordered, immutable collections, e.g., `(1, 2, 3)`.\n",
    "- **Ranges (`range`)**: Represents a sequence of numbers, often used in loops, e.g., `range(5)` (0 to 4).\n",
    "\n",
    "### 4. **Mapping Type**\n",
    "- **Dictionaries (`dict`)**: Unordered, mutable collections of key-value pairs, e.g., `{'key': 'value', 'year': 2024}`.\n",
    "\n",
    "### 5. **Set Types**\n",
    "- **Sets (`set`)**: Unordered collections of unique elements, e.g., `{1, 2, 3}`.\n",
    "- **Frozen Sets (`frozenset`)**: Immutable sets, e.g., `frozenset([1, 2, 3])`.\n",
    "\n",
    "### 6. **Boolean Type**\n",
    "- **Booleans (`bool`)**: Logical values, either `True` or `False`.\n",
    "\n",
    "### 7. **None Type**\n",
    "- **NoneType (`None`)**: Represents the absence of a value, e.g., `None`.\n",
    "\n",
    "---\n",
    "\n",
    "## Why Are Data Types Important? 🧐\n",
    "1. **Efficiency**: Different types allow Python to optimize memory usage and operations.\n",
    "2. **Validation**: Ensures that data is used correctly in your code, reducing bugs.\n",
    "3. **Flexibility**: Enables working with diverse data formats, from numbers and text to complex structures like lists and dictionaries.\n",
    "\n",
    "---\n",
    "\n",
    "## Real-World Applications 🌏\n",
    "In Earth Sciences, you’ll encounter various data types:\n",
    "- Numbers for temperature, precipitation, or seismic measurements.\n",
    "- Strings for metadata like locations or names of data files.\n",
    "- Lists and dictionaries to organize and process large datasets.\n",
    "\n",
    "Understanding and correctly applying these data types is crucial for writing code that processes and analyzes Earth Science data effectively. Let’s explore them in more detail in the cells ahead!\n"
   ]
  },
  {
   "cell_type": "markdown",
   "id": "98de46a7-b723-40a6-8cde-d675171731c4",
   "metadata": {},
   "source": [
    "# Exercise 1\n",
    "\n",
    "In the following cells we'll create some new (Earth-related) variables. Think about what type of data is best for each variable.\n",
    "\n",
    "- Name of our planet\n",
    "- The average surface temperature in Celsius\n",
    "- Whether Earth has a Moon (True/False)\n",
    "- The planet's radius in kilometers\n",
    "- The Moon's radius in kilometers\n",
    "- A list of the planets in the solar system.\n",
    "\n",
    "**1a - Create the first two variables and use the code provided to print these variables. Bonus question, what data type did you use for Surface Temperature (use type(SurfaceT))?** \n",
    "\n",
    "(3 points)\n"
   ]
  },
  {
   "cell_type": "code",
   "execution_count": 2,
   "id": "60f2a0df-36f8-46b9-b107-4bf03b719115",
   "metadata": {},
   "outputs": [
    {
     "name": "stdout",
     "output_type": "stream",
     "text": [
      "Our planet is called Earth\n",
      "Our planet's average surface temperature is 15.0 $^o$C\n"
     ]
    }
   ],
   "source": [
    "Name = \"Earth\"\n",
    "print(f\"Our planet is called {Name}\")\n",
    "\n",
    "SurfaceT = 15 # degrees C\n",
    "print(f\"Our planet's average surface temperature is {SurfaceT:.1f} $^o$C\")\n"
   ]
  },
  {
   "cell_type": "markdown",
   "id": "25c7c0cd-65f7-4105-af3f-928b8ec4de1c",
   "metadata": {},
   "source": [
    "**1b - If statements & basic Arithmetric Operations**\n",
    "\n",
    "An if statement allows your program to make decisions and execute specific blocks of code based on certain conditions. It's a fundamental tool for controlling the flow of a program.\n",
    "\n",
    "Using the cell below, create two more variables. One should indicate whether (or not) the Earth has a moon (use a boolean), the second should contain the Earth's radius. **Create an if statement so that if the Earth has a Moon the code calculates the relative volume of the Moon and Earth (you'll have to make a new variable for the radius of the Moon first) and prints the result (i.e., \"the volume of the Moon is XX% the volume of the Earth\"). If the Earth doesn't have a moon the code should print a message stating the \"the Earth does not have a Moon\"**. Remember the volume of a sphere is $(4/3)*π*r^3$. Assume π = 3.14.\n",
    "\n",
    "(5 points)"
   ]
  },
  {
   "cell_type": "code",
   "execution_count": 14,
   "id": "4bc34505-05df-4d7a-8030-856cface1828",
   "metadata": {},
   "outputs": [
    {
     "name": "stdout",
     "output_type": "stream",
     "text": [
      "The volume of the Moon is 2.023465348709695% the volume of the Earth\n"
     ]
    }
   ],
   "source": [
    "Moon = True\n",
    "r_Earth = 6378 # km\n",
    "r_Moon = 1738 # km\n",
    "if Moon is True:\n",
    "    v_Earth = (6378**3)*(4/3)*3.14\n",
    "    v_Moon = (1738**3)*(4/3)*3.14\n",
    "    v_ratio = (v_Moon/v_Earth)\n",
    "    print(f\"The volume of the Moon is {v_ratio*100}% the volume of the Earth\")\n",
    "else:\n",
    "    print(\"The Earth does not have a Moon\")\n",
    "    "
   ]
  },
  {
   "cell_type": "markdown",
   "id": "5bbb16e6-1669-4ade-922d-289bf87b5d5f",
   "metadata": {},
   "source": [
    "**1c - Lists, loops, dictionaries, and functions**\n",
    "\n",
    "In the cell below create a list of the planets in the solar system. Use a for loop to print each planet's name and it's position from the Sun. Example output: \"Mercury is the 1st planet from the Sun\".\n",
    "\n",
    "(5 points)"
   ]
  },
  {
   "cell_type": "code",
   "execution_count": 15,
   "id": "29a0d294-d3f6-47c5-b664-c3140664535e",
   "metadata": {},
   "outputs": [
    {
     "name": "stdout",
     "output_type": "stream",
     "text": [
      "Mercury is the 1st planet from the sun.\n",
      "Venus is the 2nd planet from the sun.\n",
      "Earth is the 3rd planet from the sun.\n",
      "Mars is the 4th planet from the sun.\n",
      "Jupiter is the 5th planet from the sun.\n",
      "Saturn is the 6th planet from the sun.\n",
      "Uranus is the 7th planet from the sun.\n",
      "Neptune is the 8th planet from the sun.\n"
     ]
    }
   ],
   "source": [
    "Planets = [\"Mercury\", \"Venus\", \"Earth\", \"Mars\", \"Jupiter\", \"Saturn\", \"Uranus\", \"Neptune\"]\n",
    "\n",
    "# Write your for loop\n",
    "\n",
    "for idx, planet in enumerate(Planets):\n",
    "    index=idx+1 \n",
    "    if(index==1):\n",
    "        print(f\"{planet} is the {index}st planet from the sun.\")\n",
    "    elif(index==2): \n",
    "        print(f\"{planet} is the {index}nd planet from the sun.\")\n",
    "    elif(index==3): \n",
    "        print(f\"{planet} is the {index}rd planet from the sun.\")\n",
    "    else:\n",
    "        print(f\"{planet} is the {index}th planet from the sun.\")\n"
   ]
  },
  {
   "cell_type": "markdown",
   "id": "6ad59dff-4f22-4325-b29f-fb6acc898754",
   "metadata": {},
   "source": [
    "A dictionary in Python is a collection of key-value pairs. It's used to store data values where each key maps to a corresponding value. This can be incredibly useful for numerous operations as the value you're interested in is directly tied to a 'key'. In the cell below create a dictionary containing the same list of planets as the 'keys', with their radii as the 'values':\n",
    "\n",
    "(2 points)"
   ]
  },
  {
   "cell_type": "code",
   "execution_count": 16,
   "id": "a2c80ac7-3af3-481a-aec7-5411401129ea",
   "metadata": {},
   "outputs": [],
   "source": [
    "Planet_radii = {'Mercury': 2440,\n",
    "                'Venus': 6052,\n",
    "                'Earth': 6378,\n",
    "                'Mars': 3390,\n",
    "                'Jupiter': 69911,\n",
    "                'Saturn': 54364,\n",
    "                'Uranus': 15759,\n",
    "                'Neptune': 24622}"
   ]
  },
  {
   "cell_type": "markdown",
   "id": "f5c4724a-8aec-44d7-9fb9-ad02113702b1",
   "metadata": {},
   "source": [
    "Write a function that performs the same calculation as you did above for the Moon (i.e, the volume of a planet relative to the volume of the Earth expressed as a percentage). Then use a for loop to print the volume of each planet relative to the volume of the Earth:\n",
    "\n",
    "(10 points)"
   ]
  },
  {
   "cell_type": "code",
   "execution_count": 17,
   "id": "91319645-0b90-44dc-9188-64e3177b936e",
   "metadata": {},
   "outputs": [
    {
     "name": "stdout",
     "output_type": "stream",
     "text": [
      "Planet Mercury has a volume that is 5.599070479385001% the volume of Earth's\n",
      "Planet Venus has a volume that is 85.43645369765676% the volume of Earth's\n",
      "Planet Mars has a volume that is 15.015698858902002% the volume of Earth's\n",
      "Planet Jupiter has a volume that is 131699.15792260223% the volume of Earth's\n",
      "Planet Saturn has a volume that is 61927.08914609533% the volume of Earth's\n",
      "Planet Uranus has a volume that is 1508.4552186476078% the volume of Earth's\n",
      "Planet Neptune has a volume that is 5753.292260038912% the volume of Earth's\n"
     ]
    }
   ],
   "source": [
    "def volume_percent(r_Earth, r_planet):\n",
    "    ## write your function in here\n",
    "    v_Earth = (r_Earth**3)*(4/3)*3.14\n",
    "    v_planet = (r_planet**3)*(4/3)*3.14\n",
    "    \n",
    "    volume_perc = (v_planet/v_Earth)*100\n",
    "\n",
    "    return volume_perc\n",
    "\n",
    "# Create a for loop that calls your function and prints the volume of each planet (relative to Earth)\n",
    "\n",
    "for planet in Planets:\n",
    "    if (planet != \"Earth\"):   \n",
    "        print(f\"Planet {planet} has a volume that is {volume_percent(Planet_radii[\"Earth\"], Planet_radii[planet])}% the volume of Earth's\")"
   ]
  },
  {
   "cell_type": "markdown",
   "id": "293ba51b-fb79-4711-963c-e0590c35a6e7",
   "metadata": {},
   "source": [
    "# Exercise 2 - Sea-level rise and climate change\n",
    "\n",
    "Climate change is real, it's happening, and we're not doing enough to stop it!\n",
    "\n",
    "![Global average temperature anomalies](https://climateknowledgeportal.worldbank.org/sites/default/files/inline-images/Screenshot%202023-03-01%20at%203.12.51%20PM.png)\n",
    "Image from https://climateknowledgeportal.worldbank.org/overview\n",
    "\n",
    "The climate has, of course, changed in the geological past, but not at the rate we're seeing at the modern day! For the last ~34 Million Years there has always been some ice on the continent of Antarctica on the south pole. Melting of ice sheets on Antarctica (and Greenland) is causing sea-levels to rise, putting many island nations at risk of permanently loosing their land, homes, and way of life (https://only.one/read/sinking-islands-rising-costs). Sea levels are predicted to rise by ~1m by 2100, but what sea level rise might we expect if ALL the ice on Antarctica suddenly melted (this would require global average temperatures to rise > 10$^o$C)?\n",
    "\n",
    "**In the cell below, use Python to calculate the amount of sea level rise expected in this scenario (complete melting of Antarctica). At the end of the code/calculation print a message stating whether or not McCone Hall would be submerged in this scenario!**\n",
    "\n",
    "**Rules**\n",
    "- Assume pi is 3.14\n",
    "- You are NOT allowed to google anything!!! I want to see your problem solving skills not the ability to google an answer, I'm interested in whether the answer is 1m, 10m, 50m, or 100m.\n",
    "- Assume a radius for Antarctica of 2000 km\n",
    "- Assume an ice sheet thickness on Antarctica of 2 km\n",
    "- You shouldn't need any other information!\n",
    "\n",
    "(25 points)"
   ]
  },
  {
   "cell_type": "code",
   "execution_count": 18,
   "id": "08fce101-1b8e-4706-a3b2-e0612edef7e6",
   "metadata": {},
   "outputs": [
    {
     "name": "stdout",
     "output_type": "stream",
     "text": [
      "Based on some very rough estimations, Earth's sea level would rise by 63.21285931611525 meters if Antarctica melted instantly. Sitting at an elevation of 96 meters, McCone Hall would not get submerged.\n"
     ]
    }
   ],
   "source": [
    "antarctica_radius = 2000*1000 #m\n",
    "antarctica_surface_area = (antarctica_radius**2)*3.14\n",
    "ice_thickness = 2*1000 #m\n",
    "ice_volume = antarctica_surface_area*ice_thickness\n",
    "ice_density = 0.9\n",
    "antarctica_water_volume = ice_volume*ice_density #m\n",
    "\n",
    "earth_surface_area = 4*3.14*((r_Earth*1000)**2) #m\n",
    "ocean_surface_area = earth_surface_area*0.7\n",
    "\n",
    "estimated_sea_level_rise = antarctica_water_volume/ocean_surface_area\n",
    "\n",
    "mccone_hall_elevation = 96 #m\n",
    "\n",
    "print(f\"Based on some very rough estimations, Earth's sea level would rise by {estimated_sea_level_rise} meters if Antarctica melted instantly. Sitting at an elevation of {mccone_hall_elevation} meters, McCone Hall would not get submerged.\")"
   ]
  },
  {
   "cell_type": "code",
   "execution_count": null,
   "id": "df4d0cf8",
   "metadata": {},
   "outputs": [],
   "source": []
  }
 ],
 "metadata": {
  "kernelspec": {
   "display_name": "EPS88",
   "language": "python",
   "name": "python3"
  },
  "language_info": {
   "codemirror_mode": {
    "name": "ipython",
    "version": 3
   },
   "file_extension": ".py",
   "mimetype": "text/x-python",
   "name": "python",
   "nbconvert_exporter": "python",
   "pygments_lexer": "ipython3",
   "version": "3.12.8"
  }
 },
 "nbformat": 4,
 "nbformat_minor": 5
}
